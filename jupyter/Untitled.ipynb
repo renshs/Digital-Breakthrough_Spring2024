{
 "cells": [
  {
   "cell_type": "code",
   "execution_count": 1,
   "id": "2588784d",
   "metadata": {},
   "outputs": [],
   "source": [
    "import pandas as pd\n",
    "import numpy as np\n",
    "data = pd.read_csv(\"clusterized_train.csv\")"
   ]
  },
  {
   "cell_type": "code",
   "execution_count": 2,
   "id": "5ffe9d4d",
   "metadata": {},
   "outputs": [
    {
     "data": {
      "text/html": [
       "<div>\n",
       "<style scoped>\n",
       "    .dataframe tbody tr th:only-of-type {\n",
       "        vertical-align: middle;\n",
       "    }\n",
       "\n",
       "    .dataframe tbody tr th {\n",
       "        vertical-align: top;\n",
       "    }\n",
       "\n",
       "    .dataframe thead th {\n",
       "        text-align: right;\n",
       "    }\n",
       "</style>\n",
       "<table border=\"1\" class=\"dataframe\">\n",
       "  <thead>\n",
       "    <tr style=\"text-align: right;\">\n",
       "      <th></th>\n",
       "      <th>id</th>\n",
       "      <th>start_date</th>\n",
       "      <th>role</th>\n",
       "      <th>text</th>\n",
       "      <th>message_date</th>\n",
       "      <th>cluster_EM_25</th>\n",
       "    </tr>\n",
       "  </thead>\n",
       "  <tbody>\n",
       "  </tbody>\n",
       "</table>\n",
       "</div>"
      ],
      "text/plain": [
       "Empty DataFrame\n",
       "Columns: [id, start_date, role, text, message_date, cluster_EM_25]\n",
       "Index: []"
      ]
     },
     "execution_count": 2,
     "metadata": {},
     "output_type": "execute_result"
    }
   ],
   "source": [
    "data[data[\"cluster_EM_25\"] == 25].head(30)"
   ]
  },
  {
   "cell_type": "code",
   "execution_count": 3,
   "id": "7bc06024",
   "metadata": {},
   "outputs": [],
   "source": [
    "clusters = {0: \"code/translit\",\n",
    "            1: \"Восхищения\",\n",
    "            2: \"Числа\",\n",
    "            3: \"Благодарности\",\n",
    "            4: \"Приветствия\",\n",
    "            5: \"Вопросы\",\n",
    "            6: \"У кого-то что-то\",\n",
    "            7: \"Прощания\",\n",
    "            8: \"Эмоции\",\n",
    "            9: \"Что-то сделано\",\n",
    "            10: \"Понимание\",\n",
    "            11: \"Мусор\",\n",
    "            12: \"Прощания\",\n",
    "            13: \"я что-то сделал\",\n",
    "            14: \"Технические шоколадки\",\n",
    "            15: \"я что-то сделал\",\n",
    "            16: \"кого-то не будет\",\n",
    "            17: \"Восхищения\",\n",
    "            18: \"Пожелания\",\n",
    "            19: \"Эмоции\",\n",
    "            20: \"Эмоции\",\n",
    "            21: \"Мусор\",\n",
    "            22: \"Ответы\",\n",
    "            23: \"Мусор\",\n",
    "            24: \"Мусор\"}"
   ]
  },
  {
   "cell_type": "code",
   "execution_count": 4,
   "id": "483d0c89",
   "metadata": {},
   "outputs": [],
   "source": [
    "data[\"cluster_EM_25\"] = data[\"cluster_EM_25\"].replace(clusters)"
   ]
  },
  {
   "cell_type": "code",
   "execution_count": 5,
   "id": "59418e68",
   "metadata": {},
   "outputs": [
    {
     "data": {
      "text/html": [
       "<div>\n",
       "<style scoped>\n",
       "    .dataframe tbody tr th:only-of-type {\n",
       "        vertical-align: middle;\n",
       "    }\n",
       "\n",
       "    .dataframe tbody tr th {\n",
       "        vertical-align: top;\n",
       "    }\n",
       "\n",
       "    .dataframe thead th {\n",
       "        text-align: right;\n",
       "    }\n",
       "</style>\n",
       "<table border=\"1\" class=\"dataframe\">\n",
       "  <thead>\n",
       "    <tr style=\"text-align: right;\">\n",
       "      <th></th>\n",
       "      <th>id</th>\n",
       "      <th>start_date</th>\n",
       "      <th>role</th>\n",
       "      <th>text</th>\n",
       "      <th>message_date</th>\n",
       "      <th>cluster_EM_25</th>\n",
       "    </tr>\n",
       "  </thead>\n",
       "  <tbody>\n",
       "    <tr>\n",
       "      <th>0</th>\n",
       "      <td>307751.0</td>\n",
       "      <td>2024-3-6, 10:02</td>\n",
       "      <td>user</td>\n",
       "      <td>winningConditions = [\\n    [0, 1, 2],\\n    [3,...</td>\n",
       "      <td>2024-03-06 10:53:03</td>\n",
       "      <td>Мусор</td>\n",
       "    </tr>\n",
       "    <tr>\n",
       "      <th>1</th>\n",
       "      <td>307752.0</td>\n",
       "      <td>2024-3-13, 09:51</td>\n",
       "      <td>user</td>\n",
       "      <td>https://diresnode.com/; 2024-03-13T10:12:22.638Z</td>\n",
       "      <td>2024-03-13 10:12:22</td>\n",
       "      <td>Мусор</td>\n",
       "    </tr>\n",
       "    <tr>\n",
       "      <th>2</th>\n",
       "      <td>321813.0</td>\n",
       "      <td>2024-3-2, 12:56</td>\n",
       "      <td>user</td>\n",
       "      <td>пока; 2024-03-02T14:29:01.773Z</td>\n",
       "      <td>2024-03-02 14:29:01</td>\n",
       "      <td>Понимание</td>\n",
       "    </tr>\n",
       "    <tr>\n",
       "      <th>3</th>\n",
       "      <td>321813.0</td>\n",
       "      <td>2024-3-2, 12:56</td>\n",
       "      <td>user</td>\n",
       "      <td>пока; 2024-03-02T14:29:07.513Z</td>\n",
       "      <td>2024-03-02 14:29:07</td>\n",
       "      <td>Понимание</td>\n",
       "    </tr>\n",
       "    <tr>\n",
       "      <th>4</th>\n",
       "      <td>321813.0</td>\n",
       "      <td>2024-3-2, 12:56</td>\n",
       "      <td>user</td>\n",
       "      <td>досвидания; 2024-03-02T14:29:08.331Z</td>\n",
       "      <td>2024-03-02 14:29:08</td>\n",
       "      <td>Прощания</td>\n",
       "    </tr>\n",
       "    <tr>\n",
       "      <th>...</th>\n",
       "      <td>...</td>\n",
       "      <td>...</td>\n",
       "      <td>...</td>\n",
       "      <td>...</td>\n",
       "      <td>...</td>\n",
       "      <td>...</td>\n",
       "    </tr>\n",
       "    <tr>\n",
       "      <th>114390</th>\n",
       "      <td>437109.0</td>\n",
       "      <td>2024-3-31, 14:00</td>\n",
       "      <td>user</td>\n",
       "      <td>Не поверите, он все это время на зарядке(</td>\n",
       "      <td>2024-03-31 15:21:12</td>\n",
       "      <td>У кого-то что-то</td>\n",
       "    </tr>\n",
       "    <tr>\n",
       "      <th>114391</th>\n",
       "      <td>437109.0</td>\n",
       "      <td>2024-3-31, 14:00</td>\n",
       "      <td>user</td>\n",
       "      <td>Видимо, отложить. Спасибо!; 2024-03-31T15:22:2...</td>\n",
       "      <td>2024-03-31 15:22:22</td>\n",
       "      <td>Эмоции</td>\n",
       "    </tr>\n",
       "    <tr>\n",
       "      <th>114392</th>\n",
       "      <td>437224.0</td>\n",
       "      <td>2024-3-30, 06:54</td>\n",
       "      <td>user</td>\n",
       "      <td>Здравствуйте!; 2024-03-30T07:27:52.900Z</td>\n",
       "      <td>2024-03-30 07:27:52</td>\n",
       "      <td>Приветствия</td>\n",
       "    </tr>\n",
       "    <tr>\n",
       "      <th>114393</th>\n",
       "      <td>437258.0</td>\n",
       "      <td>2024-3-30, 06:55</td>\n",
       "      <td>user</td>\n",
       "      <td>Здравствуйте; 2024-03-30T07:02:37.652Z</td>\n",
       "      <td>2024-03-30 07:02:37</td>\n",
       "      <td>Приветствия</td>\n",
       "    </tr>\n",
       "    <tr>\n",
       "      <th>114394</th>\n",
       "      <td>437280.0</td>\n",
       "      <td>2024-3-30, 14:50</td>\n",
       "      <td>user</td>\n",
       "      <td>Здравствуйте; 2024-03-30T14:50:57.628Z</td>\n",
       "      <td>2024-03-30 14:50:57</td>\n",
       "      <td>Приветствия</td>\n",
       "    </tr>\n",
       "  </tbody>\n",
       "</table>\n",
       "<p>114395 rows × 6 columns</p>\n",
       "</div>"
      ],
      "text/plain": [
       "              id        start_date  role  \\\n",
       "0       307751.0   2024-3-6, 10:02  user   \n",
       "1       307752.0  2024-3-13, 09:51  user   \n",
       "2       321813.0   2024-3-2, 12:56  user   \n",
       "3       321813.0   2024-3-2, 12:56  user   \n",
       "4       321813.0   2024-3-2, 12:56  user   \n",
       "...          ...               ...   ...   \n",
       "114390  437109.0  2024-3-31, 14:00  user   \n",
       "114391  437109.0  2024-3-31, 14:00  user   \n",
       "114392  437224.0  2024-3-30, 06:54  user   \n",
       "114393  437258.0  2024-3-30, 06:55  user   \n",
       "114394  437280.0  2024-3-30, 14:50  user   \n",
       "\n",
       "                                                     text  \\\n",
       "0       winningConditions = [\\n    [0, 1, 2],\\n    [3,...   \n",
       "1        https://diresnode.com/; 2024-03-13T10:12:22.638Z   \n",
       "2                          пока; 2024-03-02T14:29:01.773Z   \n",
       "3                          пока; 2024-03-02T14:29:07.513Z   \n",
       "4                    досвидания; 2024-03-02T14:29:08.331Z   \n",
       "...                                                   ...   \n",
       "114390          Не поверите, он все это время на зарядке(   \n",
       "114391  Видимо, отложить. Спасибо!; 2024-03-31T15:22:2...   \n",
       "114392            Здравствуйте!; 2024-03-30T07:27:52.900Z   \n",
       "114393             Здравствуйте; 2024-03-30T07:02:37.652Z   \n",
       "114394             Здравствуйте; 2024-03-30T14:50:57.628Z   \n",
       "\n",
       "               message_date     cluster_EM_25  \n",
       "0       2024-03-06 10:53:03             Мусор  \n",
       "1       2024-03-13 10:12:22             Мусор  \n",
       "2       2024-03-02 14:29:01         Понимание  \n",
       "3       2024-03-02 14:29:07         Понимание  \n",
       "4       2024-03-02 14:29:08          Прощания  \n",
       "...                     ...               ...  \n",
       "114390  2024-03-31 15:21:12  У кого-то что-то  \n",
       "114391  2024-03-31 15:22:22            Эмоции  \n",
       "114392  2024-03-30 07:27:52       Приветствия  \n",
       "114393  2024-03-30 07:02:37       Приветствия  \n",
       "114394  2024-03-30 14:50:57       Приветствия  \n",
       "\n",
       "[114395 rows x 6 columns]"
      ]
     },
     "execution_count": 5,
     "metadata": {},
     "output_type": "execute_result"
    }
   ],
   "source": [
    "data"
   ]
  },
  {
   "cell_type": "code",
   "execution_count": 6,
   "id": "3317ffbd",
   "metadata": {},
   "outputs": [],
   "source": [
    "import pickle\n",
    "import numpy as np\n",
    "import re\n",
    "import fasttext"
   ]
  },
  {
   "cell_type": "code",
   "execution_count": 7,
   "id": "2045dd60",
   "metadata": {},
   "outputs": [],
   "source": [
    "em_reload = pickle.load(open(\"em_25_on_50pca_from_fasttext.pkl\",'rb'))"
   ]
  },
  {
   "cell_type": "code",
   "execution_count": 2,
   "id": "f248d148",
   "metadata": {},
   "outputs": [
    {
     "name": "stderr",
     "output_type": "stream",
     "text": [
      "/tmp/ipykernel_14400/3405244745.py:5: FutureWarning: ChainedAssignmentError: behaviour will change in pandas 3.0!\n",
      "You are setting values through chained assignment. Currently this works in certain cases, but when using Copy-on-Write (which will become the default behaviour in pandas 3.0) this will never work to update the original DataFrame or Series, because the intermediate object on which we are setting values will behave as a copy.\n",
      "A typical example is when you are setting values in a column of a DataFrame, like:\n",
      "\n",
      "df[\"col\"][row_indexer] = value\n",
      "\n",
      "Use `df.loc[row_indexer, \"col\"] = values` instead, to perform the assignment in a single step and ensure this keeps updating the original `df`.\n",
      "\n",
      "See the caveats in the documentation: https://pandas.pydata.org/pandas-docs/stable/user_guide/indexing.html#returning-a-view-versus-a-copy\n",
      "\n",
      "  df_list[2351][\"Дата сообщения\"][5] = \"2024-03-28 15:31:36\"\n",
      "/tmp/ipykernel_14400/3405244745.py:5: SettingWithCopyWarning: \n",
      "A value is trying to be set on a copy of a slice from a DataFrame\n",
      "\n",
      "See the caveats in the documentation: https://pandas.pydata.org/pandas-docs/stable/user_guide/indexing.html#returning-a-view-versus-a-copy\n",
      "  df_list[2351][\"Дата сообщения\"][5] = \"2024-03-28 15:31:36\"\n"
     ]
    }
   ],
   "source": [
    "data = pd.read_csv(\"train_GB_KachestvoPrepodovaniya.csv\")\n",
    "data = data[data['ID урока'].notna() * data['Дата старта урока'].notna() * data[\"Дата сообщения\"].notna()]\n",
    "arr_dicts = data.groupby([\"ID урока\", \"Дата старта урока\"]).agg(list).to_dict('records')\n",
    "df_list = [pd.DataFrame(arr_dicts[i]) for i in range(len(arr_dicts))]\n",
    "df_list[2351][\"Дата сообщения\"][5] = \"2024-03-28 15:31:36\"\n",
    "start_date = data[\"Дата старта урока\"]\n",
    "start_secs = pd.DataFrame(pd.DataFrame(start_date.str.split().tolist())[1].str.split(\":\").tolist())[0].astype(np.int64) * 3600 + pd.DataFrame(pd.DataFrame(start_date.str.split().tolist())[1].str.split(\":\").tolist())[1].astype(np.int64) * 60\n",
    "i = 0\n",
    "start_list= []\n",
    "# start_secs = pd.DataFrame(pd.DataFrame(start_date.str.split().tolist())[1].str.split(\":\").tolist())[0].astype(np.int64) * 3600 + pd.DataFrame(pd.DataFrame(start_date.str.split().tolist())[1].str.split(\":\").tolist())[1].astype(np.int64) * 60\n",
    "for df in df_list:\n",
    "    start_list.append(start_secs[i:i+len(df)])\n",
    "    i += len(df)\n",
    "for i in range(len(df_list)):\n",
    "    df = df_list[i]\n",
    "    df[\"secs\"] = np.array(3600 * pd.DataFrame(pd.DataFrame(df[\"Дата сообщения\"].str.split().tolist())[1].str.split(\":\").tolist())[0].astype(np.int64) + 60 * pd.DataFrame(pd.DataFrame(df[\"Дата сообщения\"].str.split().tolist())[1].str.split(\":\").tolist())[1].astype(np.int64) + pd.DataFrame(pd.DataFrame(df[\"Дата сообщения\"].str.split().tolist())[1].str.split(\":\").tolist())[2].astype(np.int64))\n",
    "    df[\"start_secs\"] = np.array(start_list[i])\n",
    "    df[\"time_since_start\"] = np.array(3600 * pd.DataFrame(pd.DataFrame(df[\"Дата сообщения\"].str.split().tolist())[1].str.split(\":\").tolist())[0].astype(np.int64) + 60 * pd.DataFrame(pd.DataFrame(df[\"Дата сообщения\"].str.split().tolist())[1].str.split(\":\").tolist())[1].astype(np.int64) + pd.DataFrame(pd.DataFrame(df[\"Дата сообщения\"].str.split().tolist())[1].str.split(\":\").tolist())[2].astype(np.int64)) - np.array(start_list[i])\n"
   ]
  },
  {
   "cell_type": "code",
   "execution_count": 9,
   "id": "c4a62246",
   "metadata": {},
   "outputs": [
    {
     "name": "stderr",
     "output_type": "stream",
     "text": [
      "Warning : `load_model` does not return WordVectorModel or SupervisedModel any more, but a `FastText` object which is very similar.\n"
     ]
    }
   ],
   "source": [
    "\n",
    "pca_reload = pickle.load(open(\"pca_fasttext_300_to_50.pkl\",'rb'))\n",
    "model_path = 'ft_native_300_ru_wiki_lenta_remstopwords.bin'\n",
    "model = fasttext.load_model(model_path)\n",
    "for i in range(len(df_list)):\n",
    "    df = df_list[i]\n",
    "    text_vectorized = df[\"Текст сообщения\"].apply(lambda x: re.sub(r'[0-9-TZ:.;\\n=\\[\\],]', '', str(x))).apply(lambda x: model.get_sentence_vector(x.lower())).values\n",
    "    text_vectorized = np.array([text.tolist() for text in text_vectorized])\n",
    "    result_new = pca_reload.transform(text_vectorized)\n",
    "    predicted = em_reload.predict(result_new)\n",
    "    df[\"cluster\"] = predicted\n",
    "    df[\"cluster\"] = df[\"cluster\"].replace(clusters)\n",
    "    df_list[i] = {\"df\": df,\n",
    "                  \"code_count\": (df[\"cluster\"] == \"code/translit\").sum(),\n",
    "                  \"Восхищения_count\": (df[\"cluster\"] == \"Восхищения\").sum(),\n",
    "                  \"Числа_count\": (df[\"cluster\"] == \"Числа\").sum(),\n",
    "                  \"Благодарности_count\": (df[\"cluster\"] == \"Благодарности\").sum(),\n",
    "                  \"Приветствия_count\": (df[\"cluster\"] == \"Приветствия\").sum(),\n",
    "                  \"Вопросы_count\": (df[\"cluster\"] == \"Вопросы\").sum(),\n",
    "                  \"У кого-то что-то_count\": (df[\"cluster\"] == \"У кого-то что-то\").sum(),\n",
    "                  \"Прощания_count\": (df[\"cluster\"] == \"Прощания\").sum(),\n",
    "                  \"Эмоции_count\": (df[\"cluster\"] == \"Эмоции\").sum(),\n",
    "                  \"Done_count\": (df[\"cluster\"] == \"Что-то сделано\").sum(),\n",
    "                  \"Понимание_count\": (df[\"cluster\"] == \"Понимание\").sum(),\n",
    "                  \"Мусор_count\": (df[\"cluster\"] == \"Мусор\").sum(),\n",
    "                  \"я что-то сделал_count\": (df[\"cluster\"] == \"я что-то сделал\").sum(),\n",
    "                  \"Мусор_count\": (df[\"cluster\"] == \"Мусор\").sum(),\n",
    "                  \"кого-то не будет_count\": (df[\"cluster\"] == \"кого-то не будет\").sum(),\n",
    "                  \"Восхищения_count\": (df[\"cluster\"] == \"Восхищения\").sum(),\n",
    "                  \"Пожелания_count\": (df[\"cluster\"] == \"Пожелания\").sum(),\n",
    "                  \"Ответы_count\": (df[\"cluster\"] == \"Ответы\").sum()}\n",
    "# text_vectorize"
   ]
  },
  {
   "cell_type": "code",
   "execution_count": 10,
   "id": "466cd2b9",
   "metadata": {},
   "outputs": [
    {
     "data": {
      "text/plain": [
       "numpy.ndarray"
      ]
     },
     "execution_count": 10,
     "metadata": {},
     "output_type": "execute_result"
    }
   ],
   "source": [
    "type(result_new)"
   ]
  },
  {
   "cell_type": "code",
   "execution_count": 11,
   "id": "3395b352",
   "metadata": {},
   "outputs": [
    {
     "data": {
      "text/plain": [
       "(1,)"
      ]
     },
     "execution_count": 11,
     "metadata": {},
     "output_type": "execute_result"
    }
   ],
   "source": [
    "predicted.shape"
   ]
  },
  {
   "cell_type": "code",
   "execution_count": 13,
   "id": "d99732ba",
   "metadata": {},
   "outputs": [
    {
     "data": {
      "text/plain": [
       "{'df':   Роль пользователя                                   Текст сообщения  \\\n",
       " 0              user  https://diresnode.com/; 2024-03-13T10:12:22.638Z   \n",
       " \n",
       "         Дата сообщения               Разметка  Unnamed: 6   secs  start_secs  \\\n",
       " 0  2024-03-13 10:12:22  технические неполадки         NaN  36742       35460   \n",
       " \n",
       "    time_since_start cluster  \n",
       " 0              1282   Мусор  ,\n",
       " 'code_count': 0,\n",
       " 'Восхищения_count': 0,\n",
       " 'Числа_count': 0,\n",
       " 'Благодарности_count': 0,\n",
       " 'Приветствия_count': 0,\n",
       " 'Вопросы_count': 0,\n",
       " 'У кого-то что-то_count': 0,\n",
       " 'Прощания_count': 0,\n",
       " 'Эмоции_count': 0,\n",
       " 'Done_count': 0,\n",
       " 'Понимание_count': 0,\n",
       " 'Мусор_count': 1,\n",
       " 'я что-то сделал_count': 0,\n",
       " 'кого-то не будет_count': 0,\n",
       " 'Пожелания_count': 0,\n",
       " 'Ответы_count': 0}"
      ]
     },
     "execution_count": 13,
     "metadata": {},
     "output_type": "execute_result"
    }
   ],
   "source": [
    "df_list[1]"
   ]
  },
  {
   "cell_type": "code",
   "execution_count": 1,
   "id": "b6e5f1cd",
   "metadata": {},
   "outputs": [
    {
     "name": "stderr",
     "output_type": "stream",
     "text": [
      "Warning : `load_model` does not return WordVectorModel or SupervisedModel any more, but a `FastText` object which is very similar.\n"
     ]
    }
   ],
   "source": [
    "import clastetize"
   ]
  },
  {
   "cell_type": "code",
   "execution_count": 6,
   "id": "d7fc14a4",
   "metadata": {},
   "outputs": [
    {
     "data": {
      "text/html": [
       "<div>\n",
       "<style scoped>\n",
       "    .dataframe tbody tr th:only-of-type {\n",
       "        vertical-align: middle;\n",
       "    }\n",
       "\n",
       "    .dataframe tbody tr th {\n",
       "        vertical-align: top;\n",
       "    }\n",
       "\n",
       "    .dataframe thead th {\n",
       "        text-align: right;\n",
       "    }\n",
       "</style>\n",
       "<table border=\"1\" class=\"dataframe\">\n",
       "  <thead>\n",
       "    <tr style=\"text-align: right;\">\n",
       "      <th></th>\n",
       "      <th>Текст сообщения</th>\n",
       "    </tr>\n",
       "  </thead>\n",
       "  <tbody>\n",
       "    <tr>\n",
       "      <th>0</th>\n",
       "      <td>хуй</td>\n",
       "    </tr>\n",
       "    <tr>\n",
       "      <th>1</th>\n",
       "      <td>пенис</td>\n",
       "    </tr>\n",
       "    <tr>\n",
       "      <th>2</th>\n",
       "      <td>хер</td>\n",
       "    </tr>\n",
       "    <tr>\n",
       "      <th>3</th>\n",
       "      <td>согласен</td>\n",
       "    </tr>\n",
       "    <tr>\n",
       "      <th>4</th>\n",
       "      <td>салам</td>\n",
       "    </tr>\n",
       "  </tbody>\n",
       "</table>\n",
       "</div>"
      ],
      "text/plain": [
       "  Текст сообщения\n",
       "0             хуй\n",
       "1           пенис\n",
       "2             хер\n",
       "3        согласен\n",
       "4           салам"
      ]
     },
     "execution_count": 6,
     "metadata": {},
     "output_type": "execute_result"
    }
   ],
   "source": [
    "import pandas as pd\n",
    "pd.DataFrame([\"хуй\", \"пенис\", \"хер\", \"согласен\", \"салам\"], columns=[\"Текст сообщения\"])"
   ]
  },
  {
   "cell_type": "code",
   "execution_count": 8,
   "id": "f438ffc9",
   "metadata": {},
   "outputs": [
    {
     "name": "stdout",
     "output_type": "stream",
     "text": [
      "  Текст сообщения\n",
      "0      microphone\n",
      "1     Здраствуйте\n",
      "2             хер\n",
      "3        согласен\n",
      "4           салам\n",
      "  Текст сообщения\n",
      "0             хуй\n",
      "1           пенис\n",
      "2             хер\n",
      "3        согласен\n",
      "4           салам\n"
     ]
    },
    {
     "data": {
      "text/plain": [
       "{0: {'df':   Текст сообщения                cluster\n",
       "  0      microphone                  Мусор\n",
       "  1     Здраствуйте  Технические неполадки\n",
       "  2             хер                  Мусор\n",
       "  3        согласен  Технические неполадки\n",
       "  4           салам                  Мусор,\n",
       "  'code_count': 0,\n",
       "  'Восхищения_count': 0,\n",
       "  'Числа_count': 0,\n",
       "  'Благодарности_count': 0,\n",
       "  'Приветствия_count': 0,\n",
       "  'Вопросы_count': 0,\n",
       "  'У кого-то что-то_count': 0,\n",
       "  'Прощания_count': 0,\n",
       "  'Эмоции_count': 0,\n",
       "  'Done_count': 0,\n",
       "  'Понимание_count': 0,\n",
       "  'Мусор_count': 3,\n",
       "  'я что-то сделал_count': 0,\n",
       "  'кого-то не будет_count': 0,\n",
       "  'Пожелания_count': 0,\n",
       "  'Ответы_count': 0},\n",
       " 1: {'df':   Текст сообщения                cluster\n",
       "  0             хуй                  Мусор\n",
       "  1           пенис                  Мусор\n",
       "  2             хер                  Мусор\n",
       "  3        согласен  Технические неполадки\n",
       "  4           салам                  Мусор,\n",
       "  'code_count': 0,\n",
       "  'Восхищения_count': 0,\n",
       "  'Числа_count': 0,\n",
       "  'Благодарности_count': 0,\n",
       "  'Приветствия_count': 0,\n",
       "  'Вопросы_count': 0,\n",
       "  'У кого-то что-то_count': 0,\n",
       "  'Прощания_count': 0,\n",
       "  'Эмоции_count': 0,\n",
       "  'Done_count': 0,\n",
       "  'Понимание_count': 0,\n",
       "  'Мусор_count': 4,\n",
       "  'я что-то сделал_count': 0,\n",
       "  'кого-то не будет_count': 0,\n",
       "  'Пожелания_count': 0,\n",
       "  'Ответы_count': 0}}"
      ]
     },
     "execution_count": 8,
     "metadata": {},
     "output_type": "execute_result"
    }
   ],
   "source": [
    "clastetize.clasterize([[\"microphone\", \"Здраствуйте\", \"хер\", \"согласен\", \"салам\"]])"
   ]
  }
 ],
 "metadata": {
  "kernelspec": {
   "display_name": "Python 3 (ipykernel)",
   "language": "python",
   "name": "python3"
  },
  "language_info": {
   "codemirror_mode": {
    "name": "ipython",
    "version": 3
   },
   "file_extension": ".py",
   "mimetype": "text/x-python",
   "name": "python",
   "nbconvert_exporter": "python",
   "pygments_lexer": "ipython3",
   "version": "3.10.12"
  }
 },
 "nbformat": 4,
 "nbformat_minor": 5
}
