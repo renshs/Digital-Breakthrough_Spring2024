{
 "cells": [
  {
   "cell_type": "code",
   "execution_count": 1,
   "id": "2588784d",
   "metadata": {},
   "outputs": [],
   "source": [
    "import pandas as pd\n",
    "data = pd.read_csv(\"clusterized_train.csv\")"
   ]
  },
  {
   "cell_type": "code",
   "execution_count": 2,
   "id": "5ffe9d4d",
   "metadata": {},
   "outputs": [
    {
     "data": {
      "text/html": [
       "<div>\n",
       "<style scoped>\n",
       "    .dataframe tbody tr th:only-of-type {\n",
       "        vertical-align: middle;\n",
       "    }\n",
       "\n",
       "    .dataframe tbody tr th {\n",
       "        vertical-align: top;\n",
       "    }\n",
       "\n",
       "    .dataframe thead th {\n",
       "        text-align: right;\n",
       "    }\n",
       "</style>\n",
       "<table border=\"1\" class=\"dataframe\">\n",
       "  <thead>\n",
       "    <tr style=\"text-align: right;\">\n",
       "      <th></th>\n",
       "      <th>id</th>\n",
       "      <th>start_date</th>\n",
       "      <th>role</th>\n",
       "      <th>text</th>\n",
       "      <th>message_date</th>\n",
       "      <th>cluster_EM_25</th>\n",
       "    </tr>\n",
       "  </thead>\n",
       "  <tbody>\n",
       "  </tbody>\n",
       "</table>\n",
       "</div>"
      ],
      "text/plain": [
       "Empty DataFrame\n",
       "Columns: [id, start_date, role, text, message_date, cluster_EM_25]\n",
       "Index: []"
      ]
     },
     "execution_count": 2,
     "metadata": {},
     "output_type": "execute_result"
    }
   ],
   "source": [
    "data[data[\"cluster_EM_25\"] == 25].head(30)"
   ]
  },
  {
   "cell_type": "code",
   "execution_count": 3,
   "id": "7bc06024",
   "metadata": {},
   "outputs": [],
   "source": [
    "clusters = {0: \"code/translit\",\n",
    "            1: \"Восхищения\",\n",
    "            2: \"Числа\",\n",
    "            3: \"Благодарности\",\n",
    "            4: \"Приветствия\",\n",
    "            5: \"Вопросы\",\n",
    "            6: \"У кого-то что-то\",\n",
    "            7: \"Прощания\",\n",
    "            8: \"Эмоции\",\n",
    "            9: \"Что-то сделано\",\n",
    "            10: \"Понимание\",\n",
    "            11: \"Мусор\",\n",
    "            12: \"Прощания\",\n",
    "            13: \"я что-то сделал\",\n",
    "            14: \"Технические шоколадки\",\n",
    "            15: \"я что-то сделал\",\n",
    "            16: \"кого-то не будет\",\n",
    "            17: \"Восхищения\",\n",
    "            18: \"Пожелания\",\n",
    "            19: \"Эмоции\",\n",
    "            20: \"Эмоции\",\n",
    "            21: \"Мусор\",\n",
    "            22: \"Ответы\",\n",
    "            23: \"Мусор\",\n",
    "            24: \"Мусор\"}"
   ]
  },
  {
   "cell_type": "code",
   "execution_count": 4,
   "id": "483d0c89",
   "metadata": {},
   "outputs": [],
   "source": [
    "data[\"cluster_EM_25\"] = data[\"cluster_EM_25\"].replace(clusters)"
   ]
  },
  {
   "cell_type": "code",
   "execution_count": 5,
   "id": "59418e68",
   "metadata": {},
   "outputs": [
    {
     "data": {
      "text/html": [
       "<div>\n",
       "<style scoped>\n",
       "    .dataframe tbody tr th:only-of-type {\n",
       "        vertical-align: middle;\n",
       "    }\n",
       "\n",
       "    .dataframe tbody tr th {\n",
       "        vertical-align: top;\n",
       "    }\n",
       "\n",
       "    .dataframe thead th {\n",
       "        text-align: right;\n",
       "    }\n",
       "</style>\n",
       "<table border=\"1\" class=\"dataframe\">\n",
       "  <thead>\n",
       "    <tr style=\"text-align: right;\">\n",
       "      <th></th>\n",
       "      <th>id</th>\n",
       "      <th>start_date</th>\n",
       "      <th>role</th>\n",
       "      <th>text</th>\n",
       "      <th>message_date</th>\n",
       "      <th>cluster_EM_25</th>\n",
       "    </tr>\n",
       "  </thead>\n",
       "  <tbody>\n",
       "    <tr>\n",
       "      <th>0</th>\n",
       "      <td>307751.0</td>\n",
       "      <td>2024-3-6, 10:02</td>\n",
       "      <td>user</td>\n",
       "      <td>winningConditions = [\\n    [0, 1, 2],\\n    [3,...</td>\n",
       "      <td>2024-03-06 10:53:03</td>\n",
       "      <td>Мусор</td>\n",
       "    </tr>\n",
       "    <tr>\n",
       "      <th>1</th>\n",
       "      <td>307752.0</td>\n",
       "      <td>2024-3-13, 09:51</td>\n",
       "      <td>user</td>\n",
       "      <td>https://diresnode.com/; 2024-03-13T10:12:22.638Z</td>\n",
       "      <td>2024-03-13 10:12:22</td>\n",
       "      <td>Мусор</td>\n",
       "    </tr>\n",
       "    <tr>\n",
       "      <th>2</th>\n",
       "      <td>321813.0</td>\n",
       "      <td>2024-3-2, 12:56</td>\n",
       "      <td>user</td>\n",
       "      <td>пока; 2024-03-02T14:29:01.773Z</td>\n",
       "      <td>2024-03-02 14:29:01</td>\n",
       "      <td>Понимание</td>\n",
       "    </tr>\n",
       "    <tr>\n",
       "      <th>3</th>\n",
       "      <td>321813.0</td>\n",
       "      <td>2024-3-2, 12:56</td>\n",
       "      <td>user</td>\n",
       "      <td>пока; 2024-03-02T14:29:07.513Z</td>\n",
       "      <td>2024-03-02 14:29:07</td>\n",
       "      <td>Понимание</td>\n",
       "    </tr>\n",
       "    <tr>\n",
       "      <th>4</th>\n",
       "      <td>321813.0</td>\n",
       "      <td>2024-3-2, 12:56</td>\n",
       "      <td>user</td>\n",
       "      <td>досвидания; 2024-03-02T14:29:08.331Z</td>\n",
       "      <td>2024-03-02 14:29:08</td>\n",
       "      <td>Прощания</td>\n",
       "    </tr>\n",
       "    <tr>\n",
       "      <th>...</th>\n",
       "      <td>...</td>\n",
       "      <td>...</td>\n",
       "      <td>...</td>\n",
       "      <td>...</td>\n",
       "      <td>...</td>\n",
       "      <td>...</td>\n",
       "    </tr>\n",
       "    <tr>\n",
       "      <th>114390</th>\n",
       "      <td>437109.0</td>\n",
       "      <td>2024-3-31, 14:00</td>\n",
       "      <td>user</td>\n",
       "      <td>Не поверите, он все это время на зарядке(</td>\n",
       "      <td>2024-03-31 15:21:12</td>\n",
       "      <td>У кого-то что-то</td>\n",
       "    </tr>\n",
       "    <tr>\n",
       "      <th>114391</th>\n",
       "      <td>437109.0</td>\n",
       "      <td>2024-3-31, 14:00</td>\n",
       "      <td>user</td>\n",
       "      <td>Видимо, отложить. Спасибо!; 2024-03-31T15:22:2...</td>\n",
       "      <td>2024-03-31 15:22:22</td>\n",
       "      <td>Эмоции</td>\n",
       "    </tr>\n",
       "    <tr>\n",
       "      <th>114392</th>\n",
       "      <td>437224.0</td>\n",
       "      <td>2024-3-30, 06:54</td>\n",
       "      <td>user</td>\n",
       "      <td>Здравствуйте!; 2024-03-30T07:27:52.900Z</td>\n",
       "      <td>2024-03-30 07:27:52</td>\n",
       "      <td>Приветствия</td>\n",
       "    </tr>\n",
       "    <tr>\n",
       "      <th>114393</th>\n",
       "      <td>437258.0</td>\n",
       "      <td>2024-3-30, 06:55</td>\n",
       "      <td>user</td>\n",
       "      <td>Здравствуйте; 2024-03-30T07:02:37.652Z</td>\n",
       "      <td>2024-03-30 07:02:37</td>\n",
       "      <td>Приветствия</td>\n",
       "    </tr>\n",
       "    <tr>\n",
       "      <th>114394</th>\n",
       "      <td>437280.0</td>\n",
       "      <td>2024-3-30, 14:50</td>\n",
       "      <td>user</td>\n",
       "      <td>Здравствуйте; 2024-03-30T14:50:57.628Z</td>\n",
       "      <td>2024-03-30 14:50:57</td>\n",
       "      <td>Приветствия</td>\n",
       "    </tr>\n",
       "  </tbody>\n",
       "</table>\n",
       "<p>114395 rows × 6 columns</p>\n",
       "</div>"
      ],
      "text/plain": [
       "              id        start_date  role  \\\n",
       "0       307751.0   2024-3-6, 10:02  user   \n",
       "1       307752.0  2024-3-13, 09:51  user   \n",
       "2       321813.0   2024-3-2, 12:56  user   \n",
       "3       321813.0   2024-3-2, 12:56  user   \n",
       "4       321813.0   2024-3-2, 12:56  user   \n",
       "...          ...               ...   ...   \n",
       "114390  437109.0  2024-3-31, 14:00  user   \n",
       "114391  437109.0  2024-3-31, 14:00  user   \n",
       "114392  437224.0  2024-3-30, 06:54  user   \n",
       "114393  437258.0  2024-3-30, 06:55  user   \n",
       "114394  437280.0  2024-3-30, 14:50  user   \n",
       "\n",
       "                                                     text  \\\n",
       "0       winningConditions = [\\n    [0, 1, 2],\\n    [3,...   \n",
       "1        https://diresnode.com/; 2024-03-13T10:12:22.638Z   \n",
       "2                          пока; 2024-03-02T14:29:01.773Z   \n",
       "3                          пока; 2024-03-02T14:29:07.513Z   \n",
       "4                    досвидания; 2024-03-02T14:29:08.331Z   \n",
       "...                                                   ...   \n",
       "114390          Не поверите, он все это время на зарядке(   \n",
       "114391  Видимо, отложить. Спасибо!; 2024-03-31T15:22:2...   \n",
       "114392            Здравствуйте!; 2024-03-30T07:27:52.900Z   \n",
       "114393             Здравствуйте; 2024-03-30T07:02:37.652Z   \n",
       "114394             Здравствуйте; 2024-03-30T14:50:57.628Z   \n",
       "\n",
       "               message_date     cluster_EM_25  \n",
       "0       2024-03-06 10:53:03             Мусор  \n",
       "1       2024-03-13 10:12:22             Мусор  \n",
       "2       2024-03-02 14:29:01         Понимание  \n",
       "3       2024-03-02 14:29:07         Понимание  \n",
       "4       2024-03-02 14:29:08          Прощания  \n",
       "...                     ...               ...  \n",
       "114390  2024-03-31 15:21:12  У кого-то что-то  \n",
       "114391  2024-03-31 15:22:22            Эмоции  \n",
       "114392  2024-03-30 07:27:52       Приветствия  \n",
       "114393  2024-03-30 07:02:37       Приветствия  \n",
       "114394  2024-03-30 14:50:57       Приветствия  \n",
       "\n",
       "[114395 rows x 6 columns]"
      ]
     },
     "execution_count": 5,
     "metadata": {},
     "output_type": "execute_result"
    }
   ],
   "source": [
    "data"
   ]
  },
  {
   "cell_type": "code",
   "execution_count": 6,
   "id": "3317ffbd",
   "metadata": {},
   "outputs": [],
   "source": [
    "import pickle\n",
    "import numpy as np\n",
    "import re\n",
    "import fasttext"
   ]
  },
  {
   "cell_type": "code",
   "execution_count": 7,
   "id": "2045dd60",
   "metadata": {},
   "outputs": [],
   "source": [
    "em_reload = pickle.load(open(\"em_25_on_50pca_from_fasttext.pkl\",'rb'))"
   ]
  },
  {
   "cell_type": "code",
   "execution_count": 8,
   "id": "f248d148",
   "metadata": {},
   "outputs": [
    {
     "name": "stderr",
     "output_type": "stream",
     "text": [
      "/tmp/ipykernel_77/3405244745.py:5: FutureWarning: ChainedAssignmentError: behaviour will change in pandas 3.0!\n",
      "You are setting values through chained assignment. Currently this works in certain cases, but when using Copy-on-Write (which will become the default behaviour in pandas 3.0) this will never work to update the original DataFrame or Series, because the intermediate object on which we are setting values will behave as a copy.\n",
      "A typical example is when you are setting values in a column of a DataFrame, like:\n",
      "\n",
      "df[\"col\"][row_indexer] = value\n",
      "\n",
      "Use `df.loc[row_indexer, \"col\"] = values` instead, to perform the assignment in a single step and ensure this keeps updating the original `df`.\n",
      "\n",
      "See the caveats in the documentation: https://pandas.pydata.org/pandas-docs/stable/user_guide/indexing.html#returning-a-view-versus-a-copy\n",
      "\n",
      "  df_list[2351][\"Дата сообщения\"][5] = \"2024-03-28 15:31:36\"\n",
      "/tmp/ipykernel_77/3405244745.py:5: SettingWithCopyWarning: \n",
      "A value is trying to be set on a copy of a slice from a DataFrame\n",
      "\n",
      "See the caveats in the documentation: https://pandas.pydata.org/pandas-docs/stable/user_guide/indexing.html#returning-a-view-versus-a-copy\n",
      "  df_list[2351][\"Дата сообщения\"][5] = \"2024-03-28 15:31:36\"\n"
     ]
    }
   ],
   "source": [
    "data = pd.read_csv(\"train_GB_KachestvoPrepodovaniya.csv\")\n",
    "data = data[data['ID урока'].notna() * data['Дата старта урока'].notna() * data[\"Дата сообщения\"].notna()]\n",
    "arr_dicts = data.groupby([\"ID урока\", \"Дата старта урока\"]).agg(list).to_dict('records')\n",
    "df_list = [pd.DataFrame(arr_dicts[i]) for i in range(len(arr_dicts))]\n",
    "df_list[2351][\"Дата сообщения\"][5] = \"2024-03-28 15:31:36\"\n",
    "start_date = data[\"Дата старта урока\"]\n",
    "start_secs = pd.DataFrame(pd.DataFrame(start_date.str.split().tolist())[1].str.split(\":\").tolist())[0].astype(np.int64) * 3600 + pd.DataFrame(pd.DataFrame(start_date.str.split().tolist())[1].str.split(\":\").tolist())[1].astype(np.int64) * 60\n",
    "i = 0\n",
    "start_list= []\n",
    "# start_secs = pd.DataFrame(pd.DataFrame(start_date.str.split().tolist())[1].str.split(\":\").tolist())[0].astype(np.int64) * 3600 + pd.DataFrame(pd.DataFrame(start_date.str.split().tolist())[1].str.split(\":\").tolist())[1].astype(np.int64) * 60\n",
    "for df in df_list:\n",
    "    start_list.append(start_secs[i:i+len(df)])\n",
    "    i += len(df)\n",
    "for i in range(len(df_list)):\n",
    "    df = df_list[i]\n",
    "    df[\"secs\"] = np.array(3600 * pd.DataFrame(pd.DataFrame(df[\"Дата сообщения\"].str.split().tolist())[1].str.split(\":\").tolist())[0].astype(np.int64) + 60 * pd.DataFrame(pd.DataFrame(df[\"Дата сообщения\"].str.split().tolist())[1].str.split(\":\").tolist())[1].astype(np.int64) + pd.DataFrame(pd.DataFrame(df[\"Дата сообщения\"].str.split().tolist())[1].str.split(\":\").tolist())[2].astype(np.int64))\n",
    "    df[\"start_secs\"] = np.array(start_list[i])\n",
    "    df[\"time_since_start\"] = np.array(3600 * pd.DataFrame(pd.DataFrame(df[\"Дата сообщения\"].str.split().tolist())[1].str.split(\":\").tolist())[0].astype(np.int64) + 60 * pd.DataFrame(pd.DataFrame(df[\"Дата сообщения\"].str.split().tolist())[1].str.split(\":\").tolist())[1].astype(np.int64) + pd.DataFrame(pd.DataFrame(df[\"Дата сообщения\"].str.split().tolist())[1].str.split(\":\").tolist())[2].astype(np.int64)) - np.array(start_list[i])\n"
   ]
  },
  {
   "cell_type": "code",
   "execution_count": 9,
   "id": "c4a62246",
   "metadata": {},
   "outputs": [
    {
     "name": "stderr",
     "output_type": "stream",
     "text": [
      "Warning : `load_model` does not return WordVectorModel or SupervisedModel any more, but a `FastText` object which is very similar.\n"
     ]
    },
    {
     "ename": "AttributeError",
     "evalue": "'numpy.ndarray' object has no attribute 'find'",
     "output_type": "error",
     "traceback": [
      "\u001b[0;31m---------------------------------------------------------------------------\u001b[0m",
      "\u001b[0;31mAttributeError\u001b[0m                            Traceback (most recent call last)",
      "Cell \u001b[0;32mIn [9], line 7\u001b[0m\n\u001b[1;32m      5\u001b[0m text_vectorized \u001b[38;5;241m=\u001b[39m np\u001b[38;5;241m.\u001b[39marray([text\u001b[38;5;241m.\u001b[39mtolist() \u001b[38;5;28;01mfor\u001b[39;00m text \u001b[38;5;129;01min\u001b[39;00m text_vectorized])\n\u001b[1;32m      6\u001b[0m result_new \u001b[38;5;241m=\u001b[39m pca_reload\u001b[38;5;241m.\u001b[39mtransform(text_vectorized)\n\u001b[0;32m----> 7\u001b[0m predicted \u001b[38;5;241m=\u001b[39m \u001b[43mmodel\u001b[49m\u001b[38;5;241;43m.\u001b[39;49m\u001b[43mpredict\u001b[49m\u001b[43m(\u001b[49m\u001b[43mresult_new\u001b[49m\u001b[43m)\u001b[49m\n\u001b[1;32m      8\u001b[0m \u001b[38;5;66;03m# text_vectorize\u001b[39;00m\n",
      "File \u001b[0;32m/usr/local/lib/python3.11/dist-packages/fasttext/FastText.py:225\u001b[0m, in \u001b[0;36m_FastText.predict\u001b[0;34m(self, text, k, threshold, on_unicode_error)\u001b[0m\n\u001b[1;32m    223\u001b[0m     \u001b[38;5;28;01mreturn\u001b[39;00m all_labels, all_probs\n\u001b[1;32m    224\u001b[0m \u001b[38;5;28;01melse\u001b[39;00m:\n\u001b[0;32m--> 225\u001b[0m     text \u001b[38;5;241m=\u001b[39m \u001b[43mcheck\u001b[49m\u001b[43m(\u001b[49m\u001b[43mtext\u001b[49m\u001b[43m)\u001b[49m\n\u001b[1;32m    226\u001b[0m     predictions \u001b[38;5;241m=\u001b[39m \u001b[38;5;28mself\u001b[39m\u001b[38;5;241m.\u001b[39mf\u001b[38;5;241m.\u001b[39mpredict(text, k, threshold, on_unicode_error)\n\u001b[1;32m    227\u001b[0m     \u001b[38;5;28;01mif\u001b[39;00m predictions:\n",
      "File \u001b[0;32m/usr/local/lib/python3.11/dist-packages/fasttext/FastText.py:211\u001b[0m, in \u001b[0;36m_FastText.predict.<locals>.check\u001b[0;34m(entry)\u001b[0m\n\u001b[1;32m    210\u001b[0m \u001b[38;5;28;01mdef\u001b[39;00m \u001b[38;5;21mcheck\u001b[39m(entry):\n\u001b[0;32m--> 211\u001b[0m     \u001b[38;5;28;01mif\u001b[39;00m \u001b[43mentry\u001b[49m\u001b[38;5;241;43m.\u001b[39;49m\u001b[43mfind\u001b[49m(\u001b[38;5;124m'\u001b[39m\u001b[38;5;130;01m\\n\u001b[39;00m\u001b[38;5;124m'\u001b[39m) \u001b[38;5;241m!=\u001b[39m \u001b[38;5;241m-\u001b[39m\u001b[38;5;241m1\u001b[39m:\n\u001b[1;32m    212\u001b[0m         \u001b[38;5;28;01mraise\u001b[39;00m \u001b[38;5;167;01mValueError\u001b[39;00m(\n\u001b[1;32m    213\u001b[0m             \u001b[38;5;124m\"\u001b[39m\u001b[38;5;124mpredict processes one line at a time (remove \u001b[39m\u001b[38;5;130;01m\\'\u001b[39;00m\u001b[38;5;130;01m\\\\\u001b[39;00m\u001b[38;5;124mn\u001b[39m\u001b[38;5;130;01m\\'\u001b[39;00m\u001b[38;5;124m)\u001b[39m\u001b[38;5;124m\"\u001b[39m\n\u001b[1;32m    214\u001b[0m         )\n\u001b[1;32m    215\u001b[0m     entry \u001b[38;5;241m+\u001b[39m\u001b[38;5;241m=\u001b[39m \u001b[38;5;124m\"\u001b[39m\u001b[38;5;130;01m\\n\u001b[39;00m\u001b[38;5;124m\"\u001b[39m\n",
      "\u001b[0;31mAttributeError\u001b[0m: 'numpy.ndarray' object has no attribute 'find'"
     ]
    }
   ],
   "source": [
    "pca_reload = pickle.load(open(\"pca_fasttext_300_to_50.pkl\",'rb'))\n",
    "model_path = 'ft_native_300_ru_wiki_lenta_remstopwords.bin'\n",
    "model = fasttext.load_model(model_path)\n",
    "text_vectorized = df_list[2][\"Текст сообщения\"].apply(lambda x: re.sub(r'[0-9-TZ:.;\\n=\\[\\],]', '', str(x))).apply(lambda x: model.get_sentence_vector(x.lower())).values\n",
    "text_vectorized = np.array([text.tolist() for text in text_vectorized])\n",
    "result_new = pca_reload.transform(text_vectorized)\n",
    "predicted = model.predict(result_new)\n",
    "# text_vectorize"
   ]
  },
  {
   "cell_type": "code",
   "execution_count": 11,
   "id": "466cd2b9",
   "metadata": {},
   "outputs": [
    {
     "data": {
      "text/plain": [
       "array([[-0.1525006 ,  0.01141987, -0.18823588, ..., -0.06938757,\n",
       "        -0.19954535, -0.02575504],\n",
       "       [-0.1525006 ,  0.01141987, -0.18823588, ..., -0.06938757,\n",
       "        -0.19954535, -0.02575504],\n",
       "       [-0.08807585,  0.05782858,  0.07406303, ..., -0.01800919,\n",
       "         0.04238376, -0.04413281],\n",
       "       ...,\n",
       "       [ 0.01901825, -0.17191829,  0.04948949, ...,  0.00216772,\n",
       "         0.01476174, -0.067897  ],\n",
       "       [ 0.07267515, -0.2125472 ,  0.13153149, ...,  0.05928704,\n",
       "        -0.09217316, -0.02670563],\n",
       "       [ 0.08447668, -0.13341186,  0.14819002, ...,  0.06705518,\n",
       "         0.04463497, -0.05653422]])"
      ]
     },
     "execution_count": 11,
     "metadata": {},
     "output_type": "execute_result"
    }
   ],
   "source": [
    "result_new"
   ]
  },
  {
   "cell_type": "code",
   "execution_count": 12,
   "id": "3395b352",
   "metadata": {},
   "outputs": [
    {
     "name": "stdout",
     "output_type": "stream",
     "text": [
      "/opt/app/jupyter\r\n"
     ]
    }
   ],
   "source": [
    "!pwd"
   ]
  },
  {
   "cell_type": "code",
   "execution_count": null,
   "id": "d99732ba",
   "metadata": {},
   "outputs": [],
   "source": []
  }
 ],
 "metadata": {
  "kernelspec": {
   "display_name": "Python 3 (ipykernel)",
   "language": "python",
   "name": "python3"
  },
  "language_info": {
   "codemirror_mode": {
    "name": "ipython",
    "version": 3
   },
   "file_extension": ".py",
   "mimetype": "text/x-python",
   "name": "python",
   "nbconvert_exporter": "python",
   "pygments_lexer": "ipython3",
   "version": "3.11.2"
  }
 },
 "nbformat": 4,
 "nbformat_minor": 5
}
